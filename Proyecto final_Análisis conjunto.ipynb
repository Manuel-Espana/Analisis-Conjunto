{
 "cells": [
  {
   "cell_type": "markdown",
   "metadata": {},
   "source": [
    "# Proyecto final: Análisis conjunto\n",
    "### Jesús Manuel España Tzec"
   ]
  },
  {
   "cell_type": "code",
   "execution_count": 2,
   "metadata": {},
   "outputs": [
    {
     "name": "stderr",
     "output_type": "stream",
     "text": [
      "Warning message:\n",
      "\"package 'dplyr' was built under R version 3.5.3\"\n",
      "Attaching package: 'dplyr'\n",
      "\n",
      "The following objects are masked from 'package:stats':\n",
      "\n",
      "    filter, lag\n",
      "\n",
      "The following objects are masked from 'package:base':\n",
      "\n",
      "    intersect, setdiff, setequal, union\n",
      "\n",
      "Warning message:\n",
      "\"package 'tidyverse' was built under R version 3.5.3\"Warning message in as.POSIXlt.POSIXct(Sys.time()):\n",
      "\"unable to identify current timezone 'H':\n",
      "please set environment variable 'TZ'\"-- Attaching packages --------------------------------------- tidyverse 1.2.1 --\n",
      "v ggplot2 3.2.1     v purrr   0.2.5\n",
      "v tibble  2.1.3     v stringr 1.3.1\n",
      "v readr   1.3.1     v forcats 0.4.0\n",
      "Warning message:\n",
      "\"package 'ggplot2' was built under R version 3.5.3\"Warning message:\n",
      "\"package 'tibble' was built under R version 3.5.3\"Warning message:\n",
      "\"package 'readr' was built under R version 3.5.3\"Warning message:\n",
      "\"package 'forcats' was built under R version 3.5.3\"-- Conflicts ------------------------------------------ tidyverse_conflicts() --\n",
      "x dplyr::filter() masks stats::filter()\n",
      "x dplyr::lag()    masks stats::lag()\n"
     ]
    }
   ],
   "source": [
    "library(dplyr)\n",
    "library(tidyr)\n",
    "library(tidyverse)"
   ]
  },
  {
   "cell_type": "markdown",
   "metadata": {},
   "source": [
    "## 1 Aplica un análisis conjunto adecuado para modelar las preferencias de cada consumidor.\n",
    "Primero cargamos el conjunto de datos que vamos a utilizar, *Device Full Data* es un archivo que contiene la calificación de diez consumidores sobre dieciocho productos."
   ]
  },
  {
   "cell_type": "code",
   "execution_count": 3,
   "metadata": {},
   "outputs": [
    {
     "data": {
      "text/html": [
       "<table>\n",
       "<thead><tr><th scope=col>Rating_1</th><th scope=col>Rating_2</th><th scope=col>Rating_3</th><th scope=col>Rating_4</th><th scope=col>Rating_5</th><th scope=col>Rating_6</th><th scope=col>Rating_7</th><th scope=col>Rating_8</th><th scope=col>Rating_9</th><th scope=col>Rating_10</th><th scope=col>Price</th><th scope=col>BrandOS</th><th scope=col>Storage</th><th scope=col>ImageQuality</th></tr></thead>\n",
       "<tbody>\n",
       "\t<tr><td>3     </td><td>4     </td><td>3     </td><td>1     </td><td>2     </td><td>4     </td><td>5     </td><td>2     </td><td>3     </td><td>1     </td><td> 40   </td><td>Roku  </td><td>0GB   </td><td>HDR+4K</td></tr>\n",
       "\t<tr><td>1     </td><td>2     </td><td>2     </td><td>2     </td><td>3     </td><td>1     </td><td>1     </td><td>1     </td><td>2     </td><td>2     </td><td>100   </td><td>Google</td><td>6GB   </td><td>HD    </td></tr>\n",
       "\t<tr><td>3     </td><td>2     </td><td>4     </td><td>4     </td><td>2     </td><td>3     </td><td>5     </td><td>2     </td><td>4     </td><td>4     </td><td> 70   </td><td>Amazon</td><td>6GB   </td><td>HDR+4K</td></tr>\n",
       "\t<tr><td>2     </td><td>3     </td><td>5     </td><td>1     </td><td>3     </td><td>3     </td><td>3     </td><td>1     </td><td>2     </td><td>1     </td><td> 70   </td><td>Roku  </td><td>0GB   </td><td>HD    </td></tr>\n",
       "\t<tr><td>4     </td><td>5     </td><td>2     </td><td>4     </td><td>4     </td><td>4     </td><td>5     </td><td>5     </td><td>4     </td><td>4     </td><td> 40   </td><td>Google</td><td>16GB  </td><td>HDR+4K</td></tr>\n",
       "\t<tr><td>3     </td><td>1     </td><td>2     </td><td>1     </td><td>3     </td><td>1     </td><td>1     </td><td>2     </td><td>4     </td><td>1     </td><td>100   </td><td>Apple </td><td>0GB   </td><td>HDR+4K</td></tr>\n",
       "</tbody>\n",
       "</table>\n"
      ],
      "text/latex": [
       "\\begin{tabular}{r|llllllllllllll}\n",
       " Rating\\_1 & Rating\\_2 & Rating\\_3 & Rating\\_4 & Rating\\_5 & Rating\\_6 & Rating\\_7 & Rating\\_8 & Rating\\_9 & Rating\\_10 & Price & BrandOS & Storage & ImageQuality\\\\\n",
       "\\hline\n",
       "\t 3      & 4      & 3      & 1      & 2      & 4      & 5      & 2      & 3      & 1      &  40    & Roku   & 0GB    & HDR+4K\\\\\n",
       "\t 1      & 2      & 2      & 2      & 3      & 1      & 1      & 1      & 2      & 2      & 100    & Google & 6GB    & HD    \\\\\n",
       "\t 3      & 2      & 4      & 4      & 2      & 3      & 5      & 2      & 4      & 4      &  70    & Amazon & 6GB    & HDR+4K\\\\\n",
       "\t 2      & 3      & 5      & 1      & 3      & 3      & 3      & 1      & 2      & 1      &  70    & Roku   & 0GB    & HD    \\\\\n",
       "\t 4      & 5      & 2      & 4      & 4      & 4      & 5      & 5      & 4      & 4      &  40    & Google & 16GB   & HDR+4K\\\\\n",
       "\t 3      & 1      & 2      & 1      & 3      & 1      & 1      & 2      & 4      & 1      & 100    & Apple  & 0GB    & HDR+4K\\\\\n",
       "\\end{tabular}\n"
      ],
      "text/markdown": [
       "\n",
       "Rating_1 | Rating_2 | Rating_3 | Rating_4 | Rating_5 | Rating_6 | Rating_7 | Rating_8 | Rating_9 | Rating_10 | Price | BrandOS | Storage | ImageQuality | \n",
       "|---|---|---|---|---|---|\n",
       "| 3      | 4      | 3      | 1      | 2      | 4      | 5      | 2      | 3      | 1      |  40    | Roku   | 0GB    | HDR+4K | \n",
       "| 1      | 2      | 2      | 2      | 3      | 1      | 1      | 1      | 2      | 2      | 100    | Google | 6GB    | HD     | \n",
       "| 3      | 2      | 4      | 4      | 2      | 3      | 5      | 2      | 4      | 4      |  70    | Amazon | 6GB    | HDR+4K | \n",
       "| 2      | 3      | 5      | 1      | 3      | 3      | 3      | 1      | 2      | 1      |  70    | Roku   | 0GB    | HD     | \n",
       "| 4      | 5      | 2      | 4      | 4      | 4      | 5      | 5      | 4      | 4      |  40    | Google | 16GB   | HDR+4K | \n",
       "| 3      | 1      | 2      | 1      | 3      | 1      | 1      | 2      | 4      | 1      | 100    | Apple  | 0GB    | HDR+4K | \n",
       "\n",
       "\n"
      ],
      "text/plain": [
       "  Rating_1 Rating_2 Rating_3 Rating_4 Rating_5 Rating_6 Rating_7 Rating_8\n",
       "1 3        4        3        1        2        4        5        2       \n",
       "2 1        2        2        2        3        1        1        1       \n",
       "3 3        2        4        4        2        3        5        2       \n",
       "4 2        3        5        1        3        3        3        1       \n",
       "5 4        5        2        4        4        4        5        5       \n",
       "6 3        1        2        1        3        1        1        2       \n",
       "  Rating_9 Rating_10 Price BrandOS Storage ImageQuality\n",
       "1 3        1          40   Roku    0GB     HDR+4K      \n",
       "2 2        2         100   Google  6GB     HD          \n",
       "3 4        4          70   Amazon  6GB     HDR+4K      \n",
       "4 2        1          70   Roku    0GB     HD          \n",
       "5 4        4          40   Google  16GB    HDR+4K      \n",
       "6 4        1         100   Apple   0GB     HDR+4K      "
      ]
     },
     "metadata": {},
     "output_type": "display_data"
    }
   ],
   "source": [
    "dat <- read.csv(\"device_fullData.csv\")\n",
    "head(dat)"
   ]
  },
  {
   "cell_type": "markdown",
   "metadata": {},
   "source": [
    "Creamos una función para obtener la calificación de cada usuario para cada producto."
   ]
  },
  {
   "cell_type": "code",
   "execution_count": 4,
   "metadata": {},
   "outputs": [],
   "source": [
    "user <- function(dat, from, co, tam = 5 ){\n",
    "    exc <- colnames(dat[co])\n",
    "    val <- ncol(dat)\n",
    "    while (val > tam){\n",
    "        if(exc != colnames(dat[from])){\n",
    "            dat <- dat[-from]\n",
    "            val <- ncol(dat)\n",
    "        }\n",
    "        else{\n",
    "            from <- from + 1\n",
    "        }\n",
    "    }\n",
    "    return(dat)\n",
    "}"
   ]
  },
  {
   "cell_type": "markdown",
   "metadata": {},
   "source": [
    "Cambiamos el tipo de la columna *Price* para que pueda ser manejable y creamo el modelo lineal para el primer usuario. "
   ]
  },
  {
   "cell_type": "code",
   "execution_count": 5,
   "metadata": {
    "scrolled": true
   },
   "outputs": [
    {
     "data": {
      "text/plain": [
       "\n",
       "Call:\n",
       "lm(formula = Rating_1 ~ ., data = dat1)\n",
       "\n",
       "Residuals:\n",
       "    Min      1Q  Median      3Q     Max \n",
       "-0.4919 -0.1422 -0.0074  0.1843  0.3515 \n",
       "\n",
       "Coefficients:\n",
       "                   Estimate Std. Error t value Pr(>|t|)    \n",
       "(Intercept)         2.52471    0.32073   7.872 0.000101 ***\n",
       "Price70            -0.65106    0.21628  -3.010 0.019654 *  \n",
       "Price100           -0.96429    0.24395  -3.953 0.005512 ** \n",
       "BrandOSApple        0.96081    0.25456   3.774 0.006943 ** \n",
       "BrandOSGoogle       0.04808    0.26851   0.179 0.862971    \n",
       "BrandOSRoku         0.42510    0.25456   1.670 0.138860    \n",
       "Storage16GB         0.57490    0.25456   2.258 0.058469 .  \n",
       "Storage32GB         0.87298    0.25456   3.429 0.010995 *  \n",
       "Storage6GB          0.28571    0.24395   1.171 0.279830    \n",
       "ImageQualityHD     -0.65021    0.23604  -2.755 0.028314 *  \n",
       "ImageQualityHDR+4K  0.54210    0.23604   2.297 0.055265 .  \n",
       "---\n",
       "Signif. codes:  0 '***' 0.001 '**' 0.01 '*' 0.05 '.' 0.1 ' ' 1\n",
       "\n",
       "Residual standard error: 0.3726 on 7 degrees of freedom\n",
       "Multiple R-squared:  0.9163,\tAdjusted R-squared:  0.7967 \n",
       "F-statistic: 7.662 on 10 and 7 DF,  p-value: 0.006528\n"
      ]
     },
     "metadata": {},
     "output_type": "display_data"
    }
   ],
   "source": [
    "dat$Price <-as.factor(dat$Price)\n",
    "dat1 <- user(dat, 1, 1)\n",
    "\n",
    "reg1 <- lm(Rating_1~., data = dat1)\n",
    "summary(reg1)"
   ]
  },
  {
   "cell_type": "markdown",
   "metadata": {},
   "source": [
    "Con el modelo del primer usuario podemos explicar el 91% de la información. Los factores que pueden explicarse como una combinación lineal como:\n",
    "***-0.65106(Price70) - 0.96429(Price100) + 0.96081(BrandOSApple) + 0.87298(Storage32GB) - 0.65021(ImageQualityHD)***."
   ]
  },
  {
   "cell_type": "markdown",
   "metadata": {},
   "source": [
    "Creamos el modelo para el segundo usuario."
   ]
  },
  {
   "cell_type": "code",
   "execution_count": 6,
   "metadata": {
    "scrolled": true
   },
   "outputs": [
    {
     "data": {
      "text/plain": [
       "\n",
       "Call:\n",
       "lm(formula = Rating_2 ~ ., data = dat2)\n",
       "\n",
       "Residuals:\n",
       "     Min       1Q   Median       3Q      Max \n",
       "-0.40897 -0.33108  0.00757  0.26114  0.50520 \n",
       "\n",
       "Coefficients:\n",
       "                   Estimate Std. Error t value Pr(>|t|)    \n",
       "(Intercept)          1.0196     0.4168   2.446 0.044364 *  \n",
       "Price70             -0.7645     0.2811  -2.720 0.029779 *  \n",
       "Price100            -1.2857     0.3170  -4.055 0.004838 ** \n",
       "BrandOSApple        -0.4443     0.3308  -1.343 0.221193    \n",
       "BrandOSGoogle        1.1538     0.3490   3.306 0.013006 *  \n",
       "BrandOSRoku          1.8414     0.3308   5.566 0.000846 ***\n",
       "Storage16GB          1.1586     0.3308   3.502 0.009967 ** \n",
       "Storage32GB          1.3124     0.3308   3.967 0.005413 ** \n",
       "Storage6GB           0.7143     0.3170   2.253 0.058943 .  \n",
       "ImageQualityHD       0.7734     0.3068   2.521 0.039751 *  \n",
       "ImageQualityHDR+4K   1.3888     0.3068   4.527 0.002709 ** \n",
       "---\n",
       "Signif. codes:  0 '***' 0.001 '**' 0.01 '*' 0.05 '.' 0.1 ' ' 1\n",
       "\n",
       "Residual standard error: 0.4843 on 7 degrees of freedom\n",
       "Multiple R-squared:  0.9461,\tAdjusted R-squared:  0.869 \n",
       "F-statistic: 12.28 on 10 and 7 DF,  p-value: 0.001544\n"
      ]
     },
     "metadata": {},
     "output_type": "display_data"
    }
   ],
   "source": [
    "dat2 <- user(dat, 1, 2)\n",
    "  \n",
    "reg2 <- lm(Rating_2~., data = dat2)\n",
    "summary(reg2)"
   ]
  },
  {
   "cell_type": "markdown",
   "metadata": {},
   "source": [
    "Para el segundo modelo se puede explicar el 94% de la información. Los factores que pueden explicarse como una combinación lineal como: ***- 0.7645(Price70) - 1.2857(Price100 ) + 1.1538(BrandOSGoogle) + 1.8414(BrandOSRoku) + 1.1586(Storage16GB) + 1.3124(Storage32GB) + 0.7734(ImageQualityHD) + 1.3888(ImageQualityHDR+4K)***."
   ]
  },
  {
   "cell_type": "markdown",
   "metadata": {},
   "source": [
    "Creamos el modelo para el tercer usuario."
   ]
  },
  {
   "cell_type": "code",
   "execution_count": 7,
   "metadata": {
    "scrolled": true
   },
   "outputs": [
    {
     "data": {
      "text/plain": [
       "\n",
       "Call:\n",
       "lm(formula = Rating_3 ~ ., data = dat3)\n",
       "\n",
       "Residuals:\n",
       "     Min       1Q   Median       3Q      Max \n",
       "-0.52799 -0.16814 -0.04733  0.16695  0.46926 \n",
       "\n",
       "Coefficients:\n",
       "                   Estimate Std. Error t value Pr(>|t|)    \n",
       "(Intercept)         4.70382    0.36347  12.942 3.82e-06 ***\n",
       "Price70             0.05116    0.24510   0.209 0.840607    \n",
       "Price100           -1.35714    0.27645  -4.909 0.001735 ** \n",
       "BrandOSApple       -0.36984    0.28848  -1.282 0.240660    \n",
       "BrandOSGoogle      -1.92308    0.30429  -6.320 0.000397 ***\n",
       "BrandOSRoku        -0.01270    0.28848  -0.044 0.966124    \n",
       "Storage16GB         0.76270    0.28848   2.644 0.033238 *  \n",
       "Storage32GB         1.83962    0.28848   6.377 0.000375 ***\n",
       "Storage6GB          0.14286    0.27645   0.517 0.621251    \n",
       "ImageQualityHD      0.35967    0.26749   1.345 0.220698    \n",
       "ImageQualityHDR+4K -1.33264    0.26749  -4.982 0.001597 ** \n",
       "---\n",
       "Signif. codes:  0 '***' 0.001 '**' 0.01 '*' 0.05 '.' 0.1 ' ' 1\n",
       "\n",
       "Residual standard error: 0.4223 on 7 degrees of freedom\n",
       "Multiple R-squared:  0.9662,\tAdjusted R-squared:  0.9179 \n",
       "F-statistic: 20.02 on 10 and 7 DF,  p-value: 0.0003205\n"
      ]
     },
     "metadata": {},
     "output_type": "display_data"
    }
   ],
   "source": [
    "dat3 <- user(dat, 1, 3)\n",
    "  \n",
    "reg3 <- lm(Rating_3~., data = dat3)\n",
    "summary(reg3)"
   ]
  },
  {
   "cell_type": "markdown",
   "metadata": {},
   "source": [
    "Para el tercer modelo se puede explicar el 96% de la información. Los factores que pueden explicarse como una combinación lineal como: ***- 1.35714(Price100) - 1.92308(BrandOSGoogle) + 0.76270(Storage16GB) + 1.83962(Storage32GB) - 1.33264(ImageQualityHDR+4K)***."
   ]
  },
  {
   "cell_type": "markdown",
   "metadata": {},
   "source": [
    "Creamos el modelo para el cuarto usuario."
   ]
  },
  {
   "cell_type": "code",
   "execution_count": 8,
   "metadata": {
    "scrolled": true
   },
   "outputs": [
    {
     "data": {
      "text/plain": [
       "\n",
       "Call:\n",
       "lm(formula = Rating_4 ~ ., data = dat4)\n",
       "\n",
       "Residuals:\n",
       "     Min       1Q   Median       3Q      Max \n",
       "-0.35907 -0.13079  0.03089  0.17664  0.29730 \n",
       "\n",
       "Coefficients:\n",
       "                   Estimate Std. Error t value Pr(>|t|)    \n",
       "(Intercept)          3.9855     0.2731  14.595 1.69e-06 ***\n",
       "Price70             -0.4353     0.1841  -2.364 0.050044 .  \n",
       "Price100            -1.3571     0.2077  -6.534 0.000324 ***\n",
       "BrandOSApple        -1.6718     0.2167  -7.713 0.000115 ***\n",
       "BrandOSGoogle       -1.2500     0.2286  -5.468 0.000938 ***\n",
       "BrandOSRoku         -2.5647     0.2167 -11.833 6.99e-06 ***\n",
       "Storage16GB          1.3147     0.2167   6.066 0.000508 ***\n",
       "Storage32GB          1.5647     0.2167   7.219 0.000175 ***\n",
       "Storage6GB           0.8929     0.2077   4.299 0.003572 ** \n",
       "ImageQualityHD      -0.1622     0.2010  -0.807 0.446278    \n",
       "ImageQualityHDR+4K  -0.1622     0.2010  -0.807 0.446278    \n",
       "---\n",
       "Signif. codes:  0 '***' 0.001 '**' 0.01 '*' 0.05 '.' 0.1 ' ' 1\n",
       "\n",
       "Residual standard error: 0.3173 on 7 degrees of freedom\n",
       "Multiple R-squared:  0.9745,\tAdjusted R-squared:  0.938 \n",
       "F-statistic: 26.73 on 10 and 7 DF,  p-value: 0.0001232\n"
      ]
     },
     "metadata": {},
     "output_type": "display_data"
    }
   ],
   "source": [
    "dat4 <- user(dat, 1, 4)\n",
    "  \n",
    "reg4 <- lm(Rating_4~., data = dat4)\n",
    "summary(reg4)"
   ]
  },
  {
   "cell_type": "markdown",
   "metadata": {},
   "source": [
    "Para el cuarto modelo se puede explicar el 97% de la información. Los factores que pueden explicarse como una combinación lineal como: ***- 1.3571(Price100) - 1.6718(BrandOSApple) - 1.2500(BrandOSGoogle) - 2.5647(BrandOSRoku) + 1.3147(Storage16GB) + 1.5647(Storage32GB) + 0.8929(Storage6GB)***."
   ]
  },
  {
   "cell_type": "markdown",
   "metadata": {},
   "source": [
    "Creamos el modelo para el quinto usuario."
   ]
  },
  {
   "cell_type": "code",
   "execution_count": 9,
   "metadata": {
    "scrolled": true
   },
   "outputs": [
    {
     "data": {
      "text/plain": [
       "\n",
       "Call:\n",
       "lm(formula = Rating_5 ~ ., data = dat5)\n",
       "\n",
       "Residuals:\n",
       "     Min       1Q   Median       3Q      Max \n",
       "-0.37526 -0.22531 -0.02075  0.17770  0.49707 \n",
       "\n",
       "Coefficients:\n",
       "                   Estimate Std. Error t value Pr(>|t|)    \n",
       "(Intercept)          1.9079     0.3252   5.866 0.000620 ***\n",
       "Price70             -0.4725     0.2193  -2.154 0.068169 .  \n",
       "Price100            -1.6071     0.2474  -6.497 0.000335 ***\n",
       "BrandOSApple         3.1490     0.2581  12.199 5.69e-06 ***\n",
       "BrandOSGoogle        1.5673     0.2723   5.756 0.000694 ***\n",
       "BrandOSRoku          0.7561     0.2581   2.929 0.022047 *  \n",
       "Storage16GB          0.7439     0.2581   2.882 0.023595 *  \n",
       "Storage32GB          1.0612     0.2581   4.111 0.004511 ** \n",
       "Storage6GB           0.6429     0.2474   2.599 0.035488 *  \n",
       "ImageQualityHD       0.3113     0.2394   1.301 0.234537    \n",
       "ImageQualityHDR+4K  -0.4194     0.2394  -1.752 0.123165    \n",
       "---\n",
       "Signif. codes:  0 '***' 0.001 '**' 0.01 '*' 0.05 '.' 0.1 ' ' 1\n",
       "\n",
       "Residual standard error: 0.3779 on 7 degrees of freedom\n",
       "Multiple R-squared:  0.9715,\tAdjusted R-squared:  0.9309 \n",
       "F-statistic: 23.89 on 10 and 7 DF,  p-value: 0.0001789\n"
      ]
     },
     "metadata": {},
     "output_type": "display_data"
    }
   ],
   "source": [
    "dat5 <- user(dat, 1, 5)\n",
    "  \n",
    "reg5 <- lm(Rating_5~., data=dat5)\n",
    "summary(reg5)"
   ]
  },
  {
   "cell_type": "markdown",
   "metadata": {},
   "source": [
    "Para el quinto modelo se puede explicar el 97% de la información. Los factores que pueden explicarse como una combinación lineal como: ***- 1.6071(Price100) + 3.1490(BrandOSApple) + 1.5673(BrandOSGoogle) + 0.7561(BrandOSRoku) + 0.7439(Storage16GB) + 1.0612(Storage32GB) + 0.6429(Storage6GB)***."
   ]
  },
  {
   "cell_type": "markdown",
   "metadata": {},
   "source": [
    "Creamos el modelo para el sexto usuario."
   ]
  },
  {
   "cell_type": "code",
   "execution_count": 10,
   "metadata": {
    "scrolled": true
   },
   "outputs": [
    {
     "data": {
      "text/plain": [
       "\n",
       "Call:\n",
       "lm(formula = Rating_6 ~ ., data = dat6)\n",
       "\n",
       "Residuals:\n",
       "     Min       1Q   Median       3Q      Max \n",
       "-0.55257 -0.20884 -0.00494  0.18384  0.53464 \n",
       "\n",
       "Coefficients:\n",
       "                   Estimate Std. Error t value Pr(>|t|)    \n",
       "(Intercept)          2.9632     0.3980   7.445 0.000144 ***\n",
       "Price70             -1.4402     0.2684  -5.366 0.001046 ** \n",
       "Price100            -2.2857     0.3027  -7.551 0.000132 ***\n",
       "BrandOSApple         0.1256     0.3159   0.398 0.702784    \n",
       "BrandOSGoogle       -1.0577     0.3332  -3.174 0.015614 *  \n",
       "BrandOSRoku          0.4113     0.3159   1.302 0.234108    \n",
       "Storage16GB          1.3387     0.3159   4.238 0.003851 ** \n",
       "Storage32GB          1.7810     0.3159   5.638 0.000784 ***\n",
       "Storage6GB           0.7143     0.3027   2.360 0.050376 .  \n",
       "ImageQualityHD       0.9802     0.2929   3.347 0.012309 *  \n",
       "ImageQualityHDR+4K   0.7495     0.2929   2.559 0.037623 *  \n",
       "---\n",
       "Signif. codes:  0 '***' 0.001 '**' 0.01 '*' 0.05 '.' 0.1 ' ' 1\n",
       "\n",
       "Residual standard error: 0.4624 on 7 degrees of freedom\n",
       "Multiple R-squared:  0.9475,\tAdjusted R-squared:  0.8725 \n",
       "F-statistic: 12.63 on 10 and 7 DF,  p-value: 0.001413\n"
      ]
     },
     "metadata": {},
     "output_type": "display_data"
    }
   ],
   "source": [
    "dat6 <- user(dat, 1, 6)\n",
    "reg6 <- lm(Rating_6~., data=dat6)\n",
    "summary(reg6)"
   ]
  },
  {
   "cell_type": "markdown",
   "metadata": {},
   "source": [
    "Para el sexto modelo se puede explicar el 94% de la información. Los factores que pueden explicarse como una combinación lineal como: ****- 1.4402(Price70) - 2.2857(Price100) - 1.0577(BrandOSGoogle) + 1.3387(Storage16GB) + 1.7810(Storage32GB) + 0.9802(ImageQualityHD) + 0.7495(ImageQualityHDR+4K)***."
   ]
  },
  {
   "cell_type": "markdown",
   "metadata": {},
   "source": [
    "Creamos el modelo para el septimo usuario."
   ]
  },
  {
   "cell_type": "code",
   "execution_count": 11,
   "metadata": {},
   "outputs": [
    {
     "data": {
      "text/plain": [
       "\n",
       "Call:\n",
       "lm(formula = Rating_7 ~ ., data = dat7)\n",
       "\n",
       "Residuals:\n",
       "     Min       1Q   Median       3Q      Max \n",
       "-0.25733 -0.04570  0.02079  0.08826  0.30795 \n",
       "\n",
       "Coefficients:\n",
       "                   Estimate Std. Error t value Pr(>|t|)    \n",
       "(Intercept)          3.5962     0.1943  18.512 3.33e-07 ***\n",
       "Price70             -0.5632     0.1310  -4.299 0.003569 ** \n",
       "Price100            -2.4643     0.1478 -16.678 6.81e-07 ***\n",
       "BrandOSApple        -1.6174     0.1542 -10.490 1.56e-05 ***\n",
       "BrandOSGoogle       -1.1827     0.1626  -7.272 0.000167 ***\n",
       "BrandOSRoku         -0.4031     0.1542  -2.614 0.034687 *  \n",
       "Storage16GB          0.9031     0.1542   5.857 0.000626 ***\n",
       "Storage32GB          0.9704     0.1542   6.294 0.000407 ***\n",
       "Storage6GB           0.5357     0.1478   3.626 0.008447 ** \n",
       "ImageQualityHD       0.4194     0.1430   2.934 0.021908 *  \n",
       "ImageQualityHDR+4K   1.6887     0.1430  11.811 7.07e-06 ***\n",
       "---\n",
       "Signif. codes:  0 '***' 0.001 '**' 0.01 '*' 0.05 '.' 0.1 ' ' 1\n",
       "\n",
       "Residual standard error: 0.2257 on 7 degrees of freedom\n",
       "Multiple R-squared:  0.9909,\tAdjusted R-squared:  0.9779 \n",
       "F-statistic: 76.07 on 10 and 7 DF,  p-value: 3.537e-06\n"
      ]
     },
     "metadata": {},
     "output_type": "display_data"
    }
   ],
   "source": [
    "dat7 <- user(dat, 1, 7)\n",
    "  \n",
    "reg7 <- lm(Rating_7~., data=dat7)\n",
    "summary(reg7)"
   ]
  },
  {
   "cell_type": "markdown",
   "metadata": {},
   "source": [
    "Para el septimo modelo se puede explicar el 99% de la información. Los factores que pueden explicarse como una combinación lineal como: ***- 0.5632(Price70) - 2.4643(Price100) - 1.6174(BrandOSApple) - 1.1827(BrandOSGoogle) - 0.4031(BrandOSRoku) + 0.9031(Storage16GB) + 0.9704(Storage32GB) + 0.5357(Storage6GB) + 0.4194(ImageQualityHD) + 1.6887(ImageQualityHDR+4K)***."
   ]
  },
  {
   "cell_type": "markdown",
   "metadata": {},
   "source": [
    "Creamos el modelo para el octavo usuario."
   ]
  },
  {
   "cell_type": "code",
   "execution_count": 12,
   "metadata": {
    "scrolled": true
   },
   "outputs": [
    {
     "data": {
      "text/plain": [
       "\n",
       "Call:\n",
       "lm(formula = Rating_8 ~ ., data = dat8)\n",
       "\n",
       "Residuals:\n",
       "     Min       1Q   Median       3Q      Max \n",
       "-0.65039 -0.24348 -0.05275  0.23900  0.52807 \n",
       "\n",
       "Coefficients:\n",
       "                   Estimate Std. Error t value Pr(>|t|)    \n",
       "(Intercept)          1.9237     0.4649   4.138 0.004362 ** \n",
       "Price70             -0.8996     0.3135  -2.869 0.024014 *  \n",
       "Price100            -2.2857     0.3536  -6.464 0.000346 ***\n",
       "BrandOSApple         1.6043     0.3690   4.347 0.003365 ** \n",
       "BrandOSGoogle        1.2308     0.3892   3.162 0.015884 *  \n",
       "BrandOSRoku         -0.3600     0.3690  -0.976 0.361779    \n",
       "Storage16GB          1.1100     0.3690   3.008 0.019718 *  \n",
       "Storage32GB          1.3408     0.3690   3.633 0.008360 ** \n",
       "Storage6GB           0.4643     0.3536   1.313 0.230613    \n",
       "ImageQualityHD      -0.1237     0.3422  -0.362 0.728379    \n",
       "ImageQualityHDR+4K   0.7994     0.3422   2.336 0.052137 .  \n",
       "---\n",
       "Signif. codes:  0 '***' 0.001 '**' 0.01 '*' 0.05 '.' 0.1 ' ' 1\n",
       "\n",
       "Residual standard error: 0.5402 on 7 degrees of freedom\n",
       "Multiple R-squared:  0.9329,\tAdjusted R-squared:  0.8371 \n",
       "F-statistic: 9.734 on 10 and 7 DF,  p-value: 0.003177\n"
      ]
     },
     "metadata": {},
     "output_type": "display_data"
    }
   ],
   "source": [
    "dat8 <- user(dat, 1, 8)\n",
    "  \n",
    "reg8 <- lm(Rating_8~., data=dat8)\n",
    "summary(reg8)"
   ]
  },
  {
   "cell_type": "markdown",
   "metadata": {},
   "source": [
    "Para el octavo modelo se puede explicar el 93% de la información. Los factores que pueden explicarse como una combinación lineal como: ***- 0.8996(Price70) - 2.2857(Price100) + 1.6043(BrandOSApple) + 1.2308(BrandOSGoogle) + 1.1100(Storage16GB) + 1.3408(Storage32GB)***."
   ]
  },
  {
   "cell_type": "markdown",
   "metadata": {},
   "source": [
    "Creamos el modelo para el noveno usuario."
   ]
  },
  {
   "cell_type": "code",
   "execution_count": 13,
   "metadata": {},
   "outputs": [
    {
     "data": {
      "text/plain": [
       "\n",
       "Call:\n",
       "lm(formula = Rating_9 ~ ., data = dat9)\n",
       "\n",
       "Residuals:\n",
       "     Min       1Q   Median       3Q      Max \n",
       "-0.34200 -0.11238 -0.06357  0.11946  0.38697 \n",
       "\n",
       "Coefficients:\n",
       "                   Estimate Std. Error t value Pr(>|t|)    \n",
       "(Intercept)          1.6191     0.2527   6.408 0.000365 ***\n",
       "Price70             -0.2080     0.1704  -1.221 0.261677    \n",
       "Price100            -0.3214     0.1922  -1.673 0.138343    \n",
       "BrandOSApple         0.6125     0.2005   3.054 0.018469 *  \n",
       "BrandOSGoogle       -0.7981     0.2115  -3.773 0.006958 ** \n",
       "BrandOSRoku         -0.8160     0.2005  -4.069 0.004755 ** \n",
       "Storage16GB          0.8160     0.2005   4.069 0.004755 ** \n",
       "Storage32GB          1.2679     0.2005   6.322 0.000396 ***\n",
       "Storage6GB           0.1786     0.1922   0.929 0.383723    \n",
       "ImageQualityHD       1.4610     0.1860   7.857 0.000102 ***\n",
       "ImageQualityHDR+4K   2.2687     0.1860  12.200 5.69e-06 ***\n",
       "---\n",
       "Signif. codes:  0 '***' 0.001 '**' 0.01 '*' 0.05 '.' 0.1 ' ' 1\n",
       "\n",
       "Residual standard error: 0.2936 on 7 degrees of freedom\n",
       "Multiple R-squared:  0.9754,\tAdjusted R-squared:  0.9402 \n",
       "F-statistic: 27.73 on 10 and 7 DF,  p-value: 0.000109\n"
      ]
     },
     "metadata": {},
     "output_type": "display_data"
    }
   ],
   "source": [
    "dat9 <- user(dat, 1, 9)\n",
    "  \n",
    "reg9 <- lm(Rating_9~., data=dat9)\n",
    "summary(reg9)"
   ]
  },
  {
   "cell_type": "markdown",
   "metadata": {},
   "source": [
    "Para el noveno modelo se puede explicar el 97% de la información. Los factores que pueden explicarse como una combinación lineal como: ***0.6125(BrandOSApple) - 0.7981(BrandOSGoogle) - 0.8160(BrandOSRoku) + 0.8160(Storage16GB) + 1.2679(Storage32GB) + 1.4610(ImageQualityHD) + 2.2687(ImageQualityHDR+4K)***."
   ]
  },
  {
   "cell_type": "markdown",
   "metadata": {},
   "source": [
    "Creamos el modelo para el decimo usuario."
   ]
  },
  {
   "cell_type": "code",
   "execution_count": 14,
   "metadata": {},
   "outputs": [
    {
     "data": {
      "text/plain": [
       "\n",
       "Call:\n",
       "lm(formula = Rating_10 ~ ., data = dat10)\n",
       "\n",
       "Residuals:\n",
       "     Min       1Q   Median       3Q      Max \n",
       "-0.40700 -0.08586  0.04672  0.12868  0.30940 \n",
       "\n",
       "Coefficients:\n",
       "                   Estimate Std. Error t value Pr(>|t|)    \n",
       "(Intercept)          2.9111     0.2578  11.291 9.56e-06 ***\n",
       "Price70             -0.6573     0.1739  -3.781 0.006884 ** \n",
       "Price100            -1.0714     0.1961  -5.464 0.000942 ***\n",
       "BrandOSApple        -1.9429     0.2046  -9.495 3.01e-05 ***\n",
       "BrandOSGoogle       -1.3077     0.2158  -6.059 0.000512 ***\n",
       "BrandOSRoku         -2.6215     0.2046 -12.811 4.09e-06 ***\n",
       "Storage16GB          1.1215     0.2046   5.481 0.000925 ***\n",
       "Storage32GB          1.8138     0.2046   8.864 4.71e-05 ***\n",
       "Storage6GB           0.6786     0.1961   3.460 0.010542 *  \n",
       "ImageQualityHD       1.1965     0.1897   6.306 0.000402 ***\n",
       "ImageQualityHDR+4K   0.9657     0.1897   5.090 0.001416 ** \n",
       "---\n",
       "Signif. codes:  0 '***' 0.001 '**' 0.01 '*' 0.05 '.' 0.1 ' ' 1\n",
       "\n",
       "Residual standard error: 0.2995 on 7 degrees of freedom\n",
       "Multiple R-squared:  0.9794,\tAdjusted R-squared:  0.9499 \n",
       "F-statistic: 33.23 on 10 and 7 DF,  p-value: 5.944e-05\n"
      ]
     },
     "metadata": {},
     "output_type": "display_data"
    }
   ],
   "source": [
    "dat10 <- user(dat, 1, 10)\n",
    "  \n",
    "reg10 <- lm(Rating_10~., data=dat10)\n",
    "summary(reg10)"
   ]
  },
  {
   "cell_type": "markdown",
   "metadata": {},
   "source": [
    "Para el decimo modelo se puede explicar el 97% de la información. Los factores que pueden explicarse como una combinación lineal como: ***- 0.6573(Price70) - 1.0714(Price100) - 1.9429(BrandOSApple) - 1.3077(BrandOSGoogle) - 2.6215(BrandOSRoku) + 1.1215(Storage16GB) + 1.8138(Storage32GB) + 0.6786(Storage6GB) + 1.1965(ImageQualityHD) + 0.9657(ImageQualityHDR+4K)***."
   ]
  },
  {
   "cell_type": "markdown",
   "metadata": {},
   "source": [
    "## 2. Mediante un modelo global, ordena los atributos de acuerdo a la importancia que le otorgan los consumidores."
   ]
  },
  {
   "cell_type": "code",
   "execution_count": 15,
   "metadata": {},
   "outputs": [],
   "source": [
    "data <- dat %>% gather(Rating_1,Rating_2,Rating_3,Rating_4,Rating_5,Rating_6,Rating_7,Rating_8,Rating_9,Rating_10)\n",
    "data <- data %>% dplyr::rename(Rating_3 = Rating_1, Rating_4 = Rating_2)\n",
    "\n",
    "data2 <- user(dat, 4, 4, 8)\n",
    "data2 <- data2 %>% gather(Rating_3,Rating_4,Rating_1,Rating_2)"
   ]
  },
  {
   "cell_type": "markdown",
   "metadata": {},
   "source": [
    "Hacemos el modelo global con los dataframes anteriores ya ordenados."
   ]
  },
  {
   "cell_type": "code",
   "execution_count": 16,
   "metadata": {},
   "outputs": [
    {
     "data": {
      "text/plain": [
       "\n",
       "Call:\n",
       "lm(formula = Rating_4 ~ ., data = data3)\n",
       "\n",
       "Residuals:\n",
       "    Min      1Q  Median      3Q     Max \n",
       "-2.2180 -0.9049  0.0032  0.8280  3.2364 \n",
       "\n",
       "Coefficients:\n",
       "                   Estimate Std. Error t value Pr(>|t|)    \n",
       "(Intercept)         2.71549    0.31498   8.621 4.60e-15 ***\n",
       "Price70            -0.60405    0.21240  -2.844  0.00501 ** \n",
       "Price100           -1.50000    0.23957  -6.261 3.05e-09 ***\n",
       "BrandOSApple        0.04059    0.25000   0.162  0.87121    \n",
       "BrandOSGoogle      -0.35192    0.26370  -1.335  0.18382    \n",
       "BrandOSRoku        -0.33441    0.25000  -1.338  0.18281    \n",
       "Storage16GB         0.98441    0.25000   3.938  0.00012 ***\n",
       "Storage32GB         1.38248    0.25000   5.530 1.20e-07 ***\n",
       "Storage6GB          0.52500    0.23957   2.191  0.02979 *  \n",
       "ImageQualityHD      0.45655    0.23181   1.969  0.05053 .  \n",
       "ImageQualityHDR+4K  0.64886    0.23181   2.799  0.00572 ** \n",
       "---\n",
       "Signif. codes:  0 '***' 0.001 '**' 0.01 '*' 0.05 '.' 0.1 ' ' 1\n",
       "\n",
       "Residual standard error: 1.157 on 169 degrees of freedom\n",
       "Multiple R-squared:  0.3241,\tAdjusted R-squared:  0.2841 \n",
       "F-statistic: 8.104 on 10 and 169 DF,  p-value: 1.226e-10\n"
      ]
     },
     "metadata": {},
     "output_type": "display_data"
    }
   ],
   "source": [
    "data3 <-rbind(data,data2)\n",
    "data3 <- data3[-5]\n",
    "reg11 <- lm(Rating_4~., data = data3)\n",
    "summary(reg11)"
   ]
  },
  {
   "cell_type": "markdown",
   "metadata": {},
   "source": [
    "El modelo permite explicar 32% de la información, siendo los predictores más significativos son *Price70, Price100, Storage16GB, Storage32GB, Storage6GB, ImageQualityHDR+4K*.\n",
    "La combinación lineal queda como: ***- 0.60405(Price70) - 1.50000(Price100) + 0.98441(Storage16GB) + 1.38248(Storage32GB) + 0.52500(Storage6GB) + 0.64886(ImageQualityHDR+4K)***."
   ]
  },
  {
   "cell_type": "markdown",
   "metadata": {},
   "source": [
    "##  3.Utilizando los modelos que construiste en el punto 1, identifica cuál de las opciones de la línea de producción de Google tendrá la mayor aceptación entre los consumidores (más consumidores lo eligirán). Observa que el nuevo producto deberá competir con los tres que se ofrecen actualmente."
   ]
  },
  {
   "cell_type": "markdown",
   "metadata": {},
   "source": [
    "Cargamos el nuevo conjunto de datos y observamos las primeras entradas."
   ]
  },
  {
   "cell_type": "code",
   "execution_count": 17,
   "metadata": {},
   "outputs": [
    {
     "data": {
      "text/html": [
       "<table>\n",
       "<thead><tr><th scope=col>Price</th><th scope=col>BrandOS</th><th scope=col>Storage</th><th scope=col>ImageQuality</th><th scope=col>Available</th></tr></thead>\n",
       "<tbody>\n",
       "\t<tr><td> 70    </td><td>Roku   </td><td>6GB    </td><td>HDR+4K </td><td>1      </td></tr>\n",
       "\t<tr><td> 70    </td><td>Amazon </td><td>16GB   </td><td>Full HD</td><td>1      </td></tr>\n",
       "\t<tr><td>100    </td><td>Apple  </td><td>32GB   </td><td>HDR+4K </td><td>1      </td></tr>\n",
       "\t<tr><td> 40    </td><td>Google </td><td>6GB    </td><td>HD     </td><td>0      </td></tr>\n",
       "\t<tr><td> 70    </td><td>Google </td><td>32GB   </td><td>Full HD</td><td>0      </td></tr>\n",
       "\t<tr><td> 70    </td><td>Google </td><td>16GB   </td><td>HDR+4K </td><td>0      </td></tr>\n",
       "</tbody>\n",
       "</table>\n"
      ],
      "text/latex": [
       "\\begin{tabular}{r|lllll}\n",
       " Price & BrandOS & Storage & ImageQuality & Available\\\\\n",
       "\\hline\n",
       "\t  70     & Roku    & 6GB     & HDR+4K  & 1      \\\\\n",
       "\t  70     & Amazon  & 16GB    & Full HD & 1      \\\\\n",
       "\t 100     & Apple   & 32GB    & HDR+4K  & 1      \\\\\n",
       "\t  40     & Google  & 6GB     & HD      & 0      \\\\\n",
       "\t  70     & Google  & 32GB    & Full HD & 0      \\\\\n",
       "\t  70     & Google  & 16GB    & HDR+4K  & 0      \\\\\n",
       "\\end{tabular}\n"
      ],
      "text/markdown": [
       "\n",
       "Price | BrandOS | Storage | ImageQuality | Available | \n",
       "|---|---|---|---|---|---|\n",
       "|  70     | Roku    | 6GB     | HDR+4K  | 1       | \n",
       "|  70     | Amazon  | 16GB    | Full HD | 1       | \n",
       "| 100     | Apple   | 32GB    | HDR+4K  | 1       | \n",
       "|  40     | Google  | 6GB     | HD      | 0       | \n",
       "|  70     | Google  | 32GB    | Full HD | 0       | \n",
       "|  70     | Google  | 16GB    | HDR+4K  | 0       | \n",
       "\n",
       "\n"
      ],
      "text/plain": [
       "  Price BrandOS Storage ImageQuality Available\n",
       "1  70   Roku    6GB     HDR+4K       1        \n",
       "2  70   Amazon  16GB    Full HD      1        \n",
       "3 100   Apple   32GB    HDR+4K       1        \n",
       "4  40   Google  6GB     HD           0        \n",
       "5  70   Google  32GB    Full HD      0        \n",
       "6  70   Google  16GB    HDR+4K       0        "
      ]
     },
     "metadata": {},
     "output_type": "display_data"
    }
   ],
   "source": [
    "data2 <- read.csv(\"device_Products.csv\")\n",
    "head(data2)"
   ]
  },
  {
   "cell_type": "markdown",
   "metadata": {},
   "source": [
    "Cambiamos el tipo de la columna *Price* y realizamos las predicciones para cada usuario."
   ]
  },
  {
   "cell_type": "code",
   "execution_count": 18,
   "metadata": {},
   "outputs": [],
   "source": [
    "data2$Price <-as.factor(data2$Price)\n",
    "pred1 <- predict(reg1, data2)\n",
    "pred2 <- predict(reg2, data2)\n",
    "pred3 <- predict(reg3, data2)\n",
    "pred4 <- predict(reg4, data2)\n",
    "pred5 <- predict(reg5, data2)\n",
    "pred6 <- predict(reg6, data2)\n",
    "pred7 <- predict(reg7, data2)\n",
    "pred8 <- predict(reg8, data2)\n",
    "pred9 <- predict(reg9, data2)\n",
    "pred10 <- predict(reg10, data2)"
   ]
  },
  {
   "cell_type": "markdown",
   "metadata": {},
   "source": [
    "Agrupamos todas las predicciones en un dataframe"
   ]
  },
  {
   "cell_type": "code",
   "execution_count": 19,
   "metadata": {
    "scrolled": true
   },
   "outputs": [
    {
     "data": {
      "text/html": [
       "<table>\n",
       "<thead><tr><th scope=col>Apple</th><th scope=col>Amazon</th><th scope=col>Roku</th><th scope=col>Google_6GB_HD</th><th scope=col>Google_32GB_FullHD</th><th scope=col>Google_16GB_HDR4K</th></tr></thead>\n",
       "<tbody>\n",
       "\t<tr><td>3.936312</td><td>2.448545</td><td>3.126559</td><td>2.208290</td><td>2.794699</td><td>3.038721</td></tr>\n",
       "\t<tr><td>1.990793</td><td>1.413721</td><td>4.199584</td><td>3.661123</td><td>2.721414</td><td>3.956341</td></tr>\n",
       "\t<tr><td>3.483813</td><td>5.517672</td><td>3.552495</td><td>3.283264</td><td>4.671518</td><td>2.261954</td></tr>\n",
       "\t<tr><td>2.359073</td><td>4.864865</td><td>1.716216</td><td>3.466216</td><td>3.864865</td><td>3.452703</td></tr>\n",
       "\t<tr><td>4.091532</td><td>2.179314</td><td>2.415021</td><td>4.429444</td><td>4.063929</td><td>3.327183</td></tr>\n",
       "\t<tr><td>3.333568</td><td>2.861746</td><td>3.398129</td><td>3.600052</td><td>2.246362</td><td>2.553534</td></tr>\n",
       "\t<tr><td>2.173578</td><td>3.936071</td><td>4.854210</td><td>3.368633</td><td>2.820686</td><td>4.442048</td></tr>\n",
       "\t<tr><td>3.382425</td><td>2.134096</td><td>1.927755</td><td>3.495062</td><td>3.595634</td><td>4.164241</td></tr>\n",
       "\t<tr><td>5.446893</td><td>2.227131</td><td>3.042360</td><td>2.460629</td><td>1.880977</td><td>3.697765</td></tr>\n",
       "\t<tr><td>2.676233</td><td>3.375260</td><td>1.276507</td><td>3.478430</td><td>2.759875</td><td>3.033264</td></tr>\n",
       "</tbody>\n",
       "</table>\n"
      ],
      "text/latex": [
       "\\begin{tabular}{r|llllll}\n",
       " Apple & Amazon & Roku & Google\\_6GB\\_HD & Google\\_32GB\\_FullHD & Google\\_16GB\\_HDR4K\\\\\n",
       "\\hline\n",
       "\t 3.936312 & 2.448545 & 3.126559 & 2.208290 & 2.794699 & 3.038721\\\\\n",
       "\t 1.990793 & 1.413721 & 4.199584 & 3.661123 & 2.721414 & 3.956341\\\\\n",
       "\t 3.483813 & 5.517672 & 3.552495 & 3.283264 & 4.671518 & 2.261954\\\\\n",
       "\t 2.359073 & 4.864865 & 1.716216 & 3.466216 & 3.864865 & 3.452703\\\\\n",
       "\t 4.091532 & 2.179314 & 2.415021 & 4.429444 & 4.063929 & 3.327183\\\\\n",
       "\t 3.333568 & 2.861746 & 3.398129 & 3.600052 & 2.246362 & 2.553534\\\\\n",
       "\t 2.173578 & 3.936071 & 4.854210 & 3.368633 & 2.820686 & 4.442048\\\\\n",
       "\t 3.382425 & 2.134096 & 1.927755 & 3.495062 & 3.595634 & 4.164241\\\\\n",
       "\t 5.446893 & 2.227131 & 3.042360 & 2.460629 & 1.880977 & 3.697765\\\\\n",
       "\t 2.676233 & 3.375260 & 1.276507 & 3.478430 & 2.759875 & 3.033264\\\\\n",
       "\\end{tabular}\n"
      ],
      "text/markdown": [
       "\n",
       "Apple | Amazon | Roku | Google_6GB_HD | Google_32GB_FullHD | Google_16GB_HDR4K | \n",
       "|---|---|---|---|---|---|---|---|---|---|\n",
       "| 3.936312 | 2.448545 | 3.126559 | 2.208290 | 2.794699 | 3.038721 | \n",
       "| 1.990793 | 1.413721 | 4.199584 | 3.661123 | 2.721414 | 3.956341 | \n",
       "| 3.483813 | 5.517672 | 3.552495 | 3.283264 | 4.671518 | 2.261954 | \n",
       "| 2.359073 | 4.864865 | 1.716216 | 3.466216 | 3.864865 | 3.452703 | \n",
       "| 4.091532 | 2.179314 | 2.415021 | 4.429444 | 4.063929 | 3.327183 | \n",
       "| 3.333568 | 2.861746 | 3.398129 | 3.600052 | 2.246362 | 2.553534 | \n",
       "| 2.173578 | 3.936071 | 4.854210 | 3.368633 | 2.820686 | 4.442048 | \n",
       "| 3.382425 | 2.134096 | 1.927755 | 3.495062 | 3.595634 | 4.164241 | \n",
       "| 5.446893 | 2.227131 | 3.042360 | 2.460629 | 1.880977 | 3.697765 | \n",
       "| 2.676233 | 3.375260 | 1.276507 | 3.478430 | 2.759875 | 3.033264 | \n",
       "\n",
       "\n"
      ],
      "text/plain": [
       "   Apple    Amazon   Roku     Google_6GB_HD Google_32GB_FullHD\n",
       "1  3.936312 2.448545 3.126559 2.208290      2.794699          \n",
       "2  1.990793 1.413721 4.199584 3.661123      2.721414          \n",
       "3  3.483813 5.517672 3.552495 3.283264      4.671518          \n",
       "4  2.359073 4.864865 1.716216 3.466216      3.864865          \n",
       "5  4.091532 2.179314 2.415021 4.429444      4.063929          \n",
       "6  3.333568 2.861746 3.398129 3.600052      2.246362          \n",
       "7  2.173578 3.936071 4.854210 3.368633      2.820686          \n",
       "8  3.382425 2.134096 1.927755 3.495062      3.595634          \n",
       "9  5.446893 2.227131 3.042360 2.460629      1.880977          \n",
       "10 2.676233 3.375260 1.276507 3.478430      2.759875          \n",
       "   Google_16GB_HDR4K\n",
       "1  3.038721         \n",
       "2  3.956341         \n",
       "3  2.261954         \n",
       "4  3.452703         \n",
       "5  3.327183         \n",
       "6  2.553534         \n",
       "7  4.442048         \n",
       "8  4.164241         \n",
       "9  3.697765         \n",
       "10 3.033264         "
      ]
     },
     "metadata": {},
     "output_type": "display_data"
    }
   ],
   "source": [
    "dpred <- data.frame(\n",
    "    \"Apple\" = c(pred1[3], pred2[3], pred3[3], pred4[3], pred5[3], pred6[3], pred7[3], pred8[3], pred9[3], pred10[3]),\n",
    "    \"Amazon\" = c(pred1[2], pred2[2], pred3[2], pred4[2], pred5[2], pred6[2], pred7[2], pred8[2], pred9[2], pred10[2]),\n",
    "    \"Roku\" = c(pred1[1], pred2[1], pred3[1], pred4[1], pred5[1], pred6[1], pred7[1], pred8[1], pred9[1], pred10[1]), \n",
    "    \"Google_6GB_HD\" = c(pred1[4], pred2[4], pred3[4], pred4[4], pred5[4], pred6[4], pred7[4], pred8[4], pred9[4], pred10[4]),\n",
    "    \"Google_32GB_FullHD\" = c(pred1[5], pred2[5], pred3[5], pred4[5], pred5[5], pred6[5], pred7[5], pred8[5], pred9[5], pred10[5]),\n",
    "    \"Google_16GB_HDR4K\" = c(pred1[6], pred2[6], pred3[6], pred4[6], pred5[6], pred6[6], pred7[6], pred8[6], pred9[6], pred10[6])\n",
    ")\n",
    "dpred "
   ]
  },
  {
   "cell_type": "markdown",
   "metadata": {},
   "source": [
    "Los resultados que tenemos es que para el usuario 1 el producto que tiene más posibilidad de ser adquirido es el de Apple de 32GB y calidad HDR+4K, para el usuario 2 el producto a escoger es el de Google con 16GB y HDR+4K, para el usuario 3 es el de Amazon con 16GB y FullHD, para el usuario 4 es igual el de Amazon, para el usuario 5 es el producto de Google con 6GB y HD, para el usuario 6 es el mismo que el anterior usuario, para el usuario 7 el producto con mayor aceptación es el de Roku con 6GB y HDR+4K, para el usuario 8 el producto a escoger es el de Google con 16GB con HDR+4K, para el usuario 9 el producto de selección es el de Apple de 32GB y HDR+4K, para el usuario 10 el producto con más posibilidad de ser escogido es el de Google con 6GB y calidad HD."
   ]
  },
  {
   "cell_type": "markdown",
   "metadata": {},
   "source": [
    "## 4. Identifica con cuál de los productos se obtendrán la mayores ganancias. Observa que no necesariamente será el más aceptado por los usuarios."
   ]
  },
  {
   "cell_type": "markdown",
   "metadata": {},
   "source": [
    "Cargamos el nuevo de conjunto de datos y observamos los primeros valores."
   ]
  },
  {
   "cell_type": "code",
   "execution_count": 20,
   "metadata": {},
   "outputs": [
    {
     "data": {
      "text/html": [
       "<table>\n",
       "<thead><tr><th scope=col>Price</th><th scope=col>BrandOS</th><th scope=col>Storage</th><th scope=col>ImageQuality</th><th scope=col>Margin</th></tr></thead>\n",
       "<tbody>\n",
       "\t<tr><td>40     </td><td>Google </td><td>0GB    </td><td>HD     </td><td>25     </td></tr>\n",
       "\t<tr><td>40     </td><td>Google </td><td>6GB    </td><td>HD     </td><td>17     </td></tr>\n",
       "\t<tr><td>40     </td><td>Google </td><td>16GB   </td><td>HD     </td><td>10     </td></tr>\n",
       "\t<tr><td>40     </td><td>Google </td><td>32GB   </td><td>HD     </td><td> 5     </td></tr>\n",
       "\t<tr><td>40     </td><td>Google </td><td>0GB    </td><td>Full HD</td><td>15     </td></tr>\n",
       "\t<tr><td>40     </td><td>Google </td><td>0GB    </td><td>HDR+4K </td><td> 5     </td></tr>\n",
       "</tbody>\n",
       "</table>\n"
      ],
      "text/latex": [
       "\\begin{tabular}{r|lllll}\n",
       " Price & BrandOS & Storage & ImageQuality & Margin\\\\\n",
       "\\hline\n",
       "\t 40      & Google  & 0GB     & HD      & 25     \\\\\n",
       "\t 40      & Google  & 6GB     & HD      & 17     \\\\\n",
       "\t 40      & Google  & 16GB    & HD      & 10     \\\\\n",
       "\t 40      & Google  & 32GB    & HD      &  5     \\\\\n",
       "\t 40      & Google  & 0GB     & Full HD & 15     \\\\\n",
       "\t 40      & Google  & 0GB     & HDR+4K  &  5     \\\\\n",
       "\\end{tabular}\n"
      ],
      "text/markdown": [
       "\n",
       "Price | BrandOS | Storage | ImageQuality | Margin | \n",
       "|---|---|---|---|---|---|\n",
       "| 40      | Google  | 0GB     | HD      | 25      | \n",
       "| 40      | Google  | 6GB     | HD      | 17      | \n",
       "| 40      | Google  | 16GB    | HD      | 10      | \n",
       "| 40      | Google  | 32GB    | HD      |  5      | \n",
       "| 40      | Google  | 0GB     | Full HD | 15      | \n",
       "| 40      | Google  | 0GB     | HDR+4K  |  5      | \n",
       "\n",
       "\n"
      ],
      "text/plain": [
       "  Price BrandOS Storage ImageQuality Margin\n",
       "1 40    Google  0GB     HD           25    \n",
       "2 40    Google  6GB     HD           17    \n",
       "3 40    Google  16GB    HD           10    \n",
       "4 40    Google  32GB    HD            5    \n",
       "5 40    Google  0GB     Full HD      15    \n",
       "6 40    Google  0GB     HDR+4K        5    "
      ]
     },
     "metadata": {},
     "output_type": "display_data"
    }
   ],
   "source": [
    "data3 <- read.csv(\"device_ProductLine.csv\")\n",
    "head(data3)"
   ]
  },
  {
   "cell_type": "markdown",
   "metadata": {},
   "source": [
    "Realizamos el modelo con los dato nuevos."
   ]
  },
  {
   "cell_type": "code",
   "execution_count": 21,
   "metadata": {},
   "outputs": [
    {
     "name": "stderr",
     "output_type": "stream",
     "text": [
      "Warning message in summary.lm(reg12):\n",
      "\"essentially perfect fit: summary may be unreliable\""
     ]
    },
    {
     "data": {
      "text/plain": [
       "\n",
       "Call:\n",
       "lm(formula = Margin ~ Price + Storage + ImageQuality, data = data3)\n",
       "\n",
       "Residuals:\n",
       "       Min         1Q     Median         3Q        Max \n",
       "-2.897e-14 -3.043e-15  1.866e-16  4.038e-15  2.214e-14 \n",
       "\n",
       "Coefficients:\n",
       "                     Estimate Std. Error    t value Pr(>|t|)    \n",
       "(Intercept)         1.500e+01  6.551e-15  2.290e+15   <2e-16 ***\n",
       "Price70             3.000e+01  6.213e-15  4.829e+15   <2e-16 ***\n",
       "Price100            6.000e+01  6.153e-15  9.751e+15   <2e-16 ***\n",
       "Storage16GB        -1.500e+01  5.941e-15 -2.525e+15   <2e-16 ***\n",
       "Storage32GB        -2.000e+01  6.717e-15 -2.977e+15   <2e-16 ***\n",
       "Storage6GB         -8.000e+00  5.941e-15 -1.347e+15   <2e-16 ***\n",
       "ImageQualityHD      1.000e+01  5.496e-15  1.819e+15   <2e-16 ***\n",
       "ImageQualityHDR+4K -1.000e+01  5.757e-15 -1.737e+15   <2e-16 ***\n",
       "---\n",
       "Signif. codes:  0 '***' 0.001 '**' 0.01 '*' 0.05 '.' 0.1 ' ' 1\n",
       "\n",
       "Residual standard error: 1.151e-14 on 20 degrees of freedom\n",
       "Multiple R-squared:      1,\tAdjusted R-squared:      1 \n",
       "F-statistic: 1.502e+31 on 7 and 20 DF,  p-value: < 2.2e-16\n"
      ]
     },
     "metadata": {},
     "output_type": "display_data"
    }
   ],
   "source": [
    "data3$Price <-as.factor(data3$Price)\n",
    "\n",
    "reg12 <- lm(Margin~Price+Storage+ImageQuality, data=data3)\n",
    "summary(reg12)"
   ]
  },
  {
   "cell_type": "markdown",
   "metadata": {},
   "source": [
    "Realizamos la predicción con este conjunto de datos para observar cual es el mejor. "
   ]
  },
  {
   "cell_type": "code",
   "execution_count": 22,
   "metadata": {},
   "outputs": [
    {
     "data": {
      "text/html": [
       "<dl class=dl-horizontal>\n",
       "\t<dt>4</dt>\n",
       "\t\t<dd>17</dd>\n",
       "\t<dt>5</dt>\n",
       "\t\t<dd>25</dd>\n",
       "\t<dt>6</dt>\n",
       "\t\t<dd>20</dd>\n",
       "</dl>\n"
      ],
      "text/latex": [
       "\\begin{description*}\n",
       "\\item[4] 17\n",
       "\\item[5] 25\n",
       "\\item[6] 20\n",
       "\\end{description*}\n"
      ],
      "text/markdown": [
       "4\n",
       ":   175\n",
       ":   256\n",
       ":   20\n",
       "\n"
      ],
      "text/plain": [
       " 4  5  6 \n",
       "17 25 20 "
      ]
     },
     "metadata": {},
     "output_type": "display_data"
    }
   ],
   "source": [
    "predict(reg12,data2[4:6,])"
   ]
  },
  {
   "cell_type": "markdown",
   "metadata": {},
   "source": [
    "Los resultados se leen de arriba hacia abajo siendo el primero Google con 6GB, el segundo e Google 32GB y el último es Google 16GB. El modelo señala que el de mayor ganancia es el modelo de 32GB y el de menor ganancia es para el modelo de 6GB."
   ]
  }
 ],
 "metadata": {
  "kernelspec": {
   "display_name": "R",
   "language": "R",
   "name": "ir"
  },
  "language_info": {
   "codemirror_mode": "r",
   "file_extension": ".r",
   "mimetype": "text/x-r-source",
   "name": "R",
   "pygments_lexer": "r",
   "version": "3.5.1"
  }
 },
 "nbformat": 4,
 "nbformat_minor": 2
}
